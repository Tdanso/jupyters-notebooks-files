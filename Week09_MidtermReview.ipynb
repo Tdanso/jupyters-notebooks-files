{
 "cells": [
  {
   "cell_type": "markdown",
   "metadata": {},
   "source": [
    "# Week 9\n",
    "# Midterm Review\n",
    "\n",
    "Test 1:\n",
    "- Wednesday, Oct. 27th\n",
    "- 11:00 AM - 12:00 PM\n",
    "- This is an in-person test (Carman B36)\n",
    "- Pen-and-paper closed-book test (computer is not needed)\n",
    "- Covers everything taught in class so far\n",
    "- Include coding questions and short-answer questions"
   ]
  },
  {
   "cell_type": "markdown",
   "metadata": {},
   "source": [
    "## What Have We Covered So Far?\n",
    "- Week 1 - 2: Python Basics\n",
    "- Week 3: NumPy - array computations\n",
    "- Week 4 - 6: Pandas - data handling with data frames\n",
    "- Week 7 - 8: Matplotlib - plotting"
   ]
  },
  {
   "cell_type": "markdown",
   "metadata": {},
   "source": [
    "## Python Basics\n",
    "\n",
    "**Exercises:** \n",
    "1. Define a python list containing 4, 2, 8, 5, 7, 1.\n",
    "2. Swap the first element and the last element in this list\n",
    "3. Write a funtion that swaps the first element and the last for any given list."
   ]
  },
  {
   "cell_type": "code",
   "execution_count": 3,
   "metadata": {},
   "outputs": [
    {
     "name": "stdout",
     "output_type": "stream",
     "text": [
      "[1, 2, 8, 5, 7, 4]\n",
      "[3, 2, 1]\n"
     ]
    }
   ],
   "source": [
    "# 1\n",
    "list1 = [4,2,8,5,7,1]\n",
    "\n",
    "# 2\n",
    "temp = list1[0]\n",
    "list1[0] = list1[-1]\n",
    "# list1[len(a)-1] = b\n",
    "list1[-1] = temp\n",
    "print(list1)\n",
    "\n",
    "# 3\n",
    "def swap(x):\n",
    "    x[0], x[-1] = x[-1], x[0]\n",
    "    return x\n",
    "\n",
    "testlist = [1, 2, 3]\n",
    "result = swap(testlist)\n",
    "print(result)"
   ]
  },
  {
   "cell_type": "markdown",
   "metadata": {},
   "source": [
    "## NumPy\n",
    "\n",
    "**Exercises**:\n",
    "1. Define a NumPy array containing 44, 55, 66, 77, 88, 99\n",
    "2. Reshape the above array so that its shape is (2, 3).\n",
    "3. Multiply each number by 2."
   ]
  },
  {
   "cell_type": "code",
   "execution_count": 5,
   "metadata": {},
   "outputs": [
    {
     "name": "stdout",
     "output_type": "stream",
     "text": [
      "[[ 88 110 132]\n",
      " [154 176 198]]\n"
     ]
    }
   ],
   "source": [
    "import numpy as np\n",
    "# 1.\n",
    "arr = np.array([44,55,66,77,88,99])\n",
    "\n",
    "# 2.\n",
    "new_arr = arr.reshape(2,3)\n",
    "\n",
    "# 3.\n",
    "print(new_arr * 2)"
   ]
  },
  {
   "cell_type": "markdown",
   "metadata": {},
   "source": [
    "## Pandas\n",
    "\n",
    "**Exercises:**\n",
    "1. Create a data frame with the following data:\n",
    "\n",
    "|Name|Student?|Age|\n",
    "|-------|----|----|\n",
    "|Alice|Y|19|\n",
    "|Bob|Y|20|\n",
    "|Charle|N|30|\n",
    "\n",
    "2. Write a statement to find the number of students in the data frame.\n",
    "3. Write a statement to find the name of the oldest person in the data frame.\n",
    "4. Python list vs. Numpy array vs. Pandas data frame"
   ]
  },
  {
   "cell_type": "code",
   "execution_count": 6,
   "metadata": {},
   "outputs": [
    {
     "data": {
      "text/html": [
       "<div>\n",
       "<style scoped>\n",
       "    .dataframe tbody tr th:only-of-type {\n",
       "        vertical-align: middle;\n",
       "    }\n",
       "\n",
       "    .dataframe tbody tr th {\n",
       "        vertical-align: top;\n",
       "    }\n",
       "\n",
       "    .dataframe thead th {\n",
       "        text-align: right;\n",
       "    }\n",
       "</style>\n",
       "<table border=\"1\" class=\"dataframe\">\n",
       "  <thead>\n",
       "    <tr style=\"text-align: right;\">\n",
       "      <th></th>\n",
       "      <th>Name</th>\n",
       "      <th>Student?</th>\n",
       "      <th>Age</th>\n",
       "    </tr>\n",
       "  </thead>\n",
       "  <tbody>\n",
       "    <tr>\n",
       "      <th>0</th>\n",
       "      <td>Alice</td>\n",
       "      <td>Y</td>\n",
       "      <td>19</td>\n",
       "    </tr>\n",
       "    <tr>\n",
       "      <th>1</th>\n",
       "      <td>Bob</td>\n",
       "      <td>Y</td>\n",
       "      <td>20</td>\n",
       "    </tr>\n",
       "    <tr>\n",
       "      <th>2</th>\n",
       "      <td>Charle</td>\n",
       "      <td>N</td>\n",
       "      <td>30</td>\n",
       "    </tr>\n",
       "  </tbody>\n",
       "</table>\n",
       "</div>"
      ],
      "text/plain": [
       "     Name Student?  Age\n",
       "0   Alice        Y   19\n",
       "1     Bob        Y   20\n",
       "2  Charle        N   30"
      ]
     },
     "execution_count": 6,
     "metadata": {},
     "output_type": "execute_result"
    }
   ],
   "source": [
    "import pandas as pd\n",
    "# 1.\n",
    "df = pd.DataFrame([[\"Alice\", \"Y\", 19],\n",
    "                   [\"Bob\", \"Y\", 20],\n",
    "                   [\"Charle\", \"N\", 30]],\n",
    "                  columns=[\"Name\", \"Student?\", \"Age\"])\n",
    "df"
   ]
  },
  {
   "cell_type": "code",
   "execution_count": 8,
   "metadata": {
    "scrolled": true
   },
   "outputs": [
    {
     "data": {
      "text/plain": [
       "Y    2\n",
       "N    1\n",
       "Name: Student?, dtype: int64"
      ]
     },
     "execution_count": 8,
     "metadata": {},
     "output_type": "execute_result"
    }
   ],
   "source": [
    "# 2.\n",
    "# df[df[\"Student?\"] == \"Y\"].shape\n",
    "\n",
    "df[\"Student?\"].value_counts()"
   ]
  },
  {
   "cell_type": "code",
   "execution_count": 14,
   "metadata": {},
   "outputs": [
    {
     "data": {
      "text/html": [
       "<div>\n",
       "<style scoped>\n",
       "    .dataframe tbody tr th:only-of-type {\n",
       "        vertical-align: middle;\n",
       "    }\n",
       "\n",
       "    .dataframe tbody tr th {\n",
       "        vertical-align: top;\n",
       "    }\n",
       "\n",
       "    .dataframe thead th {\n",
       "        text-align: right;\n",
       "    }\n",
       "</style>\n",
       "<table border=\"1\" class=\"dataframe\">\n",
       "  <thead>\n",
       "    <tr style=\"text-align: right;\">\n",
       "      <th></th>\n",
       "      <th>Name</th>\n",
       "      <th>Student?</th>\n",
       "      <th>Age</th>\n",
       "    </tr>\n",
       "  </thead>\n",
       "  <tbody>\n",
       "    <tr>\n",
       "      <th>2</th>\n",
       "      <td>Charle</td>\n",
       "      <td>N</td>\n",
       "      <td>30</td>\n",
       "    </tr>\n",
       "  </tbody>\n",
       "</table>\n",
       "</div>"
      ],
      "text/plain": [
       "     Name Student?  Age\n",
       "2  Charle        N   30"
      ]
     },
     "execution_count": 14,
     "metadata": {},
     "output_type": "execute_result"
    }
   ],
   "source": [
    "# 3.\n",
    "df.sort_values(\"Age\", ascending=False).head(1)"
   ]
  },
  {
   "cell_type": "markdown",
   "metadata": {},
   "source": [
    "## Matplotlib\n",
    "\n",
    "**Exercises:**\n",
    "1. Re-create the graph below:\n",
    "\n",
    "<img src=\"https://i0.wp.com/shahinur.com/wp-content/uploads/2019/11/Draw-plot-a-line-graph-in-python-using-matplotlib.png?resize=640%2C478&ssl=1\" width=\"300\">\n",
    "\n",
    "2. Give a scenario where a scatter plot / bar plot / pie plot / histogram / box plot will be helpful to the data analysis."
   ]
  },
  {
   "cell_type": "code",
   "execution_count": 19,
   "metadata": {},
   "outputs": [
    {
     "data": {
      "text/plain": [
       "<matplotlib.legend.Legend at 0x195bc9f5700>"
      ]
     },
     "execution_count": 19,
     "metadata": {},
     "output_type": "execute_result"
    },
    {
     "data": {
      "image/png": "[encoded data removed]",
      "text/plain": [
       "<Figure size 432x288 with 1 Axes>"
      ]
     },
     "metadata": {
      "needs_background": "light"
     },
     "output_type": "display_data"
    }
   ],
   "source": [
    "import matplotlib.pyplot as plt\n",
    "\n",
    "plt.plot([0, 20, 40, 120, 500, 1000], [96.1, 97.4, 97.45, 95.0, 96.2, 97],\n",
    "         \"b.-\", label=\"Accuracy over iteration\")\n",
    "plt.xlabel(\"Batch Size\")\n",
    "plt.ylabel(\"Accuracy\")\n",
    "plt.legend()"
   ]
  }
 ],
 "metadata": {
  "kernelspec": {
   "display_name": "Python 3",
   "language": "python",
   "name": "python3"
  },
  "language_info": {
   "codemirror_mode": {
    "name": "ipython",
    "version": 3
   },
   "file_extension": ".py",
   "mimetype": "text/x-python",
   "name": "python",
   "nbconvert_exporter": "python",
   "pygments_lexer": "ipython3",
   "version": "3.8.3"
  }
 },
 "nbformat": 4,
 "nbformat_minor": 4
}
