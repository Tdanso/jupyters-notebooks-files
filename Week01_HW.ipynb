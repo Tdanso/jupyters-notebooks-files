{
 "cells": [
  {
   "cell_type": "markdown",
   "metadata": {},
   "source": [
    "# Homework Assignment 1\n",
    "\n",
    "1. In the code cell below, write a Python program to calculate the distance between point (x1, y1) and (x2, y2). \n",
    "\n",
    "Recall that the distance formula is:\n",
    "$$\n",
    "distance = \\sqrt{(x_1 - x_2)^2 + (y_1 - y_2)^2}.\n",
    "$$"
   ]
  },
  {
   "cell_type": "code",
   "execution_count": 31,
   "metadata": {},
   "outputs": [
    {
     "data": {
      "text/plain": [
       "2.8284271247461903"
      ]
     },
     "execution_count": 31,
     "metadata": {},
     "output_type": "execute_result"
    }
   ],
   "source": [
    "import math\n",
    "x1, y1 = 1, 2\n",
    "x2, y2 = 3, 4\n",
    "\n",
    "math.sqrt((1 - 3)**2 + (2 - 4)**2)\n",
    "\n"
   ]
  },
  {
   "cell_type": "markdown",
   "metadata": {},
   "source": [
    "2. In the code cell below, write a Python program that converts height from inches and feet to centimeters.\n",
    "\n",
    "    - 1 foot = 30.48 centimeters\n",
    "    - 1 inch = 2.54 centimeters"
   ]
  },
  {
   "cell_type": "code",
   "execution_count": 32,
   "metadata": {},
   "outputs": [
    {
     "name": "stdout",
     "output_type": "stream",
     "text": [
      "Feet Into Centimeters = 152.4\n",
      "Inches_Convert_Centimeters = 25.4\n"
     ]
    }
   ],
   "source": [
    "height_feet = 5\n",
    "height_inches = 10\n",
    "\n",
    "foot_into_centimeters = 5*30.48\n",
    "print(\"Feet Into Centimeters =\", foot_into_centimeters)\n",
    "\n",
    "inches_into_centimeters = 10*2.54\n",
    "print(\"Inches_Convert_Centimeters =\", inches_into_centimeters)\n",
    "\n",
    "\n",
    "\n"
   ]
  },
  {
   "cell_type": "markdown",
   "metadata": {},
   "source": [
    "### Convert the Notebook to a PDF File\n",
    "- Click the \"Print\" option from the brower (Keyboard shortcut: Ctrl + P)\n",
    "- Change the print destination to \"PDF File\"\n",
    "- Save the file in the hard drive.\n",
    "\n",
    "Submit the PDF file to Homework Assignment 1 in the assignment section from Blackboard before **Monday, Sep. 6th at 11:59PM**."
   ]
  }
 ],
 "metadata": {
  "kernelspec": {
   "display_name": "Python 3",
   "language": "python",
   "name": "python3"
  },
  "language_info": {
   "codemirror_mode": {
    "name": "ipython",
    "version": 3
   },
   "file_extension": ".py",
   "mimetype": "text/x-python",
   "name": "python",
   "nbconvert_exporter": "python",
   "pygments_lexer": "ipython3",
   "version": "3.8.8"
  }
 },
 "nbformat": 4,
 "nbformat_minor": 4
}
