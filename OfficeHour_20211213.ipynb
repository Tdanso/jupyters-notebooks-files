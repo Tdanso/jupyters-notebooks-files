{
 "cells": [
  {
   "cell_type": "markdown",
   "metadata": {},
   "source": [
    "# Office Hour Discussions\n",
    "\n",
    "**How to modify the data type?**"
   ]
  },
  {
   "cell_type": "code",
   "execution_count": 1,
   "metadata": {},
   "outputs": [],
   "source": [
    "import pandas as pd"
   ]
  },
  {
   "cell_type": "code",
   "execution_count": 7,
   "metadata": {
    "scrolled": true
   },
   "outputs": [
    {
     "data": {
      "text/html": [
       "<div>\n",
       "<style scoped>\n",
       "    .dataframe tbody tr th:only-of-type {\n",
       "        vertical-align: middle;\n",
       "    }\n",
       "\n",
       "    .dataframe tbody tr th {\n",
       "        vertical-align: top;\n",
       "    }\n",
       "\n",
       "    .dataframe thead th {\n",
       "        text-align: right;\n",
       "    }\n",
       "</style>\n",
       "<table border=\"1\" class=\"dataframe\">\n",
       "  <thead>\n",
       "    <tr style=\"text-align: right;\">\n",
       "      <th></th>\n",
       "      <th>Unnamed: 0</th>\n",
       "      <th>datetime</th>\n",
       "      <th>ID</th>\n",
       "    </tr>\n",
       "  </thead>\n",
       "  <tbody>\n",
       "    <tr>\n",
       "      <th>0</th>\n",
       "      <td>0</td>\n",
       "      <td>12/12/2021</td>\n",
       "      <td>12345</td>\n",
       "    </tr>\n",
       "    <tr>\n",
       "      <th>1</th>\n",
       "      <td>1</td>\n",
       "      <td>12/13/2021</td>\n",
       "      <td>54321</td>\n",
       "    </tr>\n",
       "    <tr>\n",
       "      <th>2</th>\n",
       "      <td>2</td>\n",
       "      <td>12/14/2021</td>\n",
       "      <td>67890</td>\n",
       "    </tr>\n",
       "  </tbody>\n",
       "</table>\n",
       "</div>"
      ],
      "text/plain": [
       "   Unnamed: 0     datetime     ID\n",
       "0           0   12/12/2021  12345\n",
       "1           1   12/13/2021  54321\n",
       "2           2   12/14/2021  67890"
      ]
     },
     "execution_count": 7,
     "metadata": {},
     "output_type": "execute_result"
    }
   ],
   "source": [
    "# Load the \"example1213.txt\" file\n",
    "df = pd.read_csv(\"Data/temp/example1213.txt\")\n",
    "df"
   ]
  },
  {
   "cell_type": "code",
   "execution_count": 8,
   "metadata": {},
   "outputs": [
    {
     "data": {
      "text/plain": [
       "Index(['Unnamed: 0', 'datetime', 'ID'], dtype='object')"
      ]
     },
     "execution_count": 8,
     "metadata": {},
     "output_type": "execute_result"
    }
   ],
   "source": [
    "df.columns"
   ]
  },
  {
   "cell_type": "code",
   "execution_count": 9,
   "metadata": {
    "scrolled": false
   },
   "outputs": [
    {
     "data": {
      "text/plain": [
       "Unnamed: 0     int64\n",
       "datetime      object\n",
       "ID             int64\n",
       "dtype: object"
      ]
     },
     "execution_count": 9,
     "metadata": {},
     "output_type": "execute_result"
    }
   ],
   "source": [
    "df.dtypes"
   ]
  },
  {
   "cell_type": "code",
   "execution_count": 10,
   "metadata": {},
   "outputs": [
    {
     "data": {
      "text/plain": [
       "0   2021-12-12\n",
       "1   2021-12-13\n",
       "2   2021-12-14\n",
       "Name: datetime, dtype: datetime64[ns]"
      ]
     },
     "execution_count": 10,
     "metadata": {},
     "output_type": "execute_result"
    }
   ],
   "source": [
    "# Convert datetime column from object to datetime data type.\n",
    "pd.to_datetime(df['datetime'])"
   ]
  },
  {
   "cell_type": "code",
   "execution_count": 11,
   "metadata": {
    "scrolled": true
   },
   "outputs": [
    {
     "data": {
      "text/plain": [
       "Unnamed: 0             int64\n",
       "datetime      datetime64[ns]\n",
       "ID                     int64\n",
       "dtype: object"
      ]
     },
     "execution_count": 11,
     "metadata": {},
     "output_type": "execute_result"
    }
   ],
   "source": [
    "df['datetime'] = pd.to_datetime(df['datetime'])\n",
    "df.dtypes"
   ]
  },
  {
   "cell_type": "markdown",
   "metadata": {},
   "source": [
    "Now, take a look at the bus_breakdown_and_delay data set."
   ]
  },
  {
   "cell_type": "code",
   "execution_count": 24,
   "metadata": {
    "scrolled": true
   },
   "outputs": [
    {
     "name": "stderr",
     "output_type": "stream",
     "text": [
      "C:\\Users\\lzhao\\anaconda3\\lib\\site-packages\\IPython\\core\\interactiveshell.py:3343: DtypeWarning: Columns (17) have mixed types.Specify dtype option on import or set low_memory=False.\n",
      "  exec(code_obj, self.user_global_ns, self.user_ns)\n"
     ]
    },
    {
     "data": {
      "text/html": [
       "<div>\n",
       "<style scoped>\n",
       "    .dataframe tbody tr th:only-of-type {\n",
       "        vertical-align: middle;\n",
       "    }\n",
       "\n",
       "    .dataframe tbody tr th {\n",
       "        vertical-align: top;\n",
       "    }\n",
       "\n",
       "    .dataframe thead th {\n",
       "        text-align: right;\n",
       "    }\n",
       "</style>\n",
       "<table border=\"1\" class=\"dataframe\">\n",
       "  <thead>\n",
       "    <tr style=\"text-align: right;\">\n",
       "      <th></th>\n",
       "      <th>0</th>\n",
       "      <th>1</th>\n",
       "      <th>2</th>\n",
       "      <th>3</th>\n",
       "      <th>4</th>\n",
       "    </tr>\n",
       "  </thead>\n",
       "  <tbody>\n",
       "    <tr>\n",
       "      <th>School_Year</th>\n",
       "      <td>2015-2016</td>\n",
       "      <td>2015-2016</td>\n",
       "      <td>2015-2016</td>\n",
       "      <td>2015-2016</td>\n",
       "      <td>2015-2016</td>\n",
       "    </tr>\n",
       "    <tr>\n",
       "      <th>Busbreakdown_ID</th>\n",
       "      <td>1227538</td>\n",
       "      <td>1227539</td>\n",
       "      <td>1227540</td>\n",
       "      <td>1227541</td>\n",
       "      <td>1227542</td>\n",
       "    </tr>\n",
       "    <tr>\n",
       "      <th>Run_Type</th>\n",
       "      <td>Special Ed AM Run</td>\n",
       "      <td>Special Ed AM Run</td>\n",
       "      <td>Pre-K/EI</td>\n",
       "      <td>Special Ed AM Run</td>\n",
       "      <td>Special Ed AM Run</td>\n",
       "    </tr>\n",
       "    <tr>\n",
       "      <th>Bus_No</th>\n",
       "      <td>2621</td>\n",
       "      <td>1260</td>\n",
       "      <td>418</td>\n",
       "      <td>4522</td>\n",
       "      <td>3124</td>\n",
       "    </tr>\n",
       "    <tr>\n",
       "      <th>Route_Number</th>\n",
       "      <td>J711</td>\n",
       "      <td>M351</td>\n",
       "      <td>3</td>\n",
       "      <td>M271</td>\n",
       "      <td>M373</td>\n",
       "    </tr>\n",
       "    <tr>\n",
       "      <th>Reason</th>\n",
       "      <td>Heavy Traffic</td>\n",
       "      <td>Heavy Traffic</td>\n",
       "      <td>Heavy Traffic</td>\n",
       "      <td>Heavy Traffic</td>\n",
       "      <td>Heavy Traffic</td>\n",
       "    </tr>\n",
       "    <tr>\n",
       "      <th>Schools_Serviced</th>\n",
       "      <td>75003</td>\n",
       "      <td>06716</td>\n",
       "      <td>C445</td>\n",
       "      <td>02699</td>\n",
       "      <td>02116</td>\n",
       "    </tr>\n",
       "    <tr>\n",
       "      <th>Occurred_On</th>\n",
       "      <td>11/05/2015 08:10:00 AM</td>\n",
       "      <td>11/05/2015 08:10:00 AM</td>\n",
       "      <td>11/05/2015 08:09:00 AM</td>\n",
       "      <td>11/05/2015 08:12:00 AM</td>\n",
       "      <td>11/05/2015 08:13:00 AM</td>\n",
       "    </tr>\n",
       "    <tr>\n",
       "      <th>Created_On</th>\n",
       "      <td>11/05/2015 08:12:00 AM</td>\n",
       "      <td>11/05/2015 08:12:00 AM</td>\n",
       "      <td>11/05/2015 08:13:00 AM</td>\n",
       "      <td>11/05/2015 08:14:00 AM</td>\n",
       "      <td>11/05/2015 08:14:00 AM</td>\n",
       "    </tr>\n",
       "    <tr>\n",
       "      <th>Boro</th>\n",
       "      <td>New Jersey</td>\n",
       "      <td>Manhattan</td>\n",
       "      <td>Bronx</td>\n",
       "      <td>Manhattan</td>\n",
       "      <td>Manhattan</td>\n",
       "    </tr>\n",
       "    <tr>\n",
       "      <th>Bus_Company_Name</th>\n",
       "      <td>RELIANT TRANS, INC. (B232</td>\n",
       "      <td>HOYT TRANSPORTATION CORP.</td>\n",
       "      <td>G.V.C., LTD.</td>\n",
       "      <td>RELIANT TRANS, INC. (B232</td>\n",
       "      <td>RELIANT TRANS, INC. (B232</td>\n",
       "    </tr>\n",
       "    <tr>\n",
       "      <th>How_Long_Delayed</th>\n",
       "      <td>NaN</td>\n",
       "      <td>20MNS</td>\n",
       "      <td>15MIN</td>\n",
       "      <td>15 MIN</td>\n",
       "      <td>NaN</td>\n",
       "    </tr>\n",
       "    <tr>\n",
       "      <th>Number_Of_Students_On_The_Bus</th>\n",
       "      <td>11</td>\n",
       "      <td>2</td>\n",
       "      <td>8</td>\n",
       "      <td>6</td>\n",
       "      <td>6</td>\n",
       "    </tr>\n",
       "    <tr>\n",
       "      <th>Has_Contractor_Notified_Schools</th>\n",
       "      <td>Yes</td>\n",
       "      <td>Yes</td>\n",
       "      <td>Yes</td>\n",
       "      <td>No</td>\n",
       "      <td>No</td>\n",
       "    </tr>\n",
       "    <tr>\n",
       "      <th>Has_Contractor_Notified_Parents</th>\n",
       "      <td>No</td>\n",
       "      <td>Yes</td>\n",
       "      <td>Yes</td>\n",
       "      <td>No</td>\n",
       "      <td>No</td>\n",
       "    </tr>\n",
       "    <tr>\n",
       "      <th>Have_You_Alerted_OPT</th>\n",
       "      <td>Yes</td>\n",
       "      <td>No</td>\n",
       "      <td>Yes</td>\n",
       "      <td>No</td>\n",
       "      <td>No</td>\n",
       "    </tr>\n",
       "    <tr>\n",
       "      <th>Informed_On</th>\n",
       "      <td>11/05/2015 08:12:00 AM</td>\n",
       "      <td>11/05/2015 08:12:00 AM</td>\n",
       "      <td>11/05/2015 08:13:00 AM</td>\n",
       "      <td>11/05/2015 08:14:00 AM</td>\n",
       "      <td>11/05/2015 08:14:00 AM</td>\n",
       "    </tr>\n",
       "    <tr>\n",
       "      <th>Incident_Number</th>\n",
       "      <td>NaN</td>\n",
       "      <td>NaN</td>\n",
       "      <td>NaN</td>\n",
       "      <td>NaN</td>\n",
       "      <td>NaN</td>\n",
       "    </tr>\n",
       "    <tr>\n",
       "      <th>Last_Updated_On</th>\n",
       "      <td>11/05/2015 08:12:14 AM</td>\n",
       "      <td>11/05/2015 08:13:34 AM</td>\n",
       "      <td>11/05/2015 08:13:22 AM</td>\n",
       "      <td>11/05/2015 08:14:04 AM</td>\n",
       "      <td>11/05/2015 08:14:08 AM</td>\n",
       "    </tr>\n",
       "    <tr>\n",
       "      <th>Breakdown_or_Running_Late</th>\n",
       "      <td>Running Late</td>\n",
       "      <td>Running Late</td>\n",
       "      <td>Running Late</td>\n",
       "      <td>Running Late</td>\n",
       "      <td>Running Late</td>\n",
       "    </tr>\n",
       "    <tr>\n",
       "      <th>School_Age_or_PreK</th>\n",
       "      <td>School-Age</td>\n",
       "      <td>School-Age</td>\n",
       "      <td>Pre-K</td>\n",
       "      <td>School-Age</td>\n",
       "      <td>School-Age</td>\n",
       "    </tr>\n",
       "  </tbody>\n",
       "</table>\n",
       "</div>"
      ],
      "text/plain": [
       "                                                         0  \\\n",
       "School_Year                                      2015-2016   \n",
       "Busbreakdown_ID                                    1227538   \n",
       "Run_Type                                 Special Ed AM Run   \n",
       "Bus_No                                                2621   \n",
       "Route_Number                                          J711   \n",
       "Reason                                       Heavy Traffic   \n",
       "Schools_Serviced                                     75003   \n",
       "Occurred_On                         11/05/2015 08:10:00 AM   \n",
       "Created_On                          11/05/2015 08:12:00 AM   \n",
       "Boro                                            New Jersey   \n",
       "Bus_Company_Name                 RELIANT TRANS, INC. (B232   \n",
       "How_Long_Delayed                                       NaN   \n",
       "Number_Of_Students_On_The_Bus                           11   \n",
       "Has_Contractor_Notified_Schools                        Yes   \n",
       "Has_Contractor_Notified_Parents                         No   \n",
       "Have_You_Alerted_OPT                                   Yes   \n",
       "Informed_On                         11/05/2015 08:12:00 AM   \n",
       "Incident_Number                                        NaN   \n",
       "Last_Updated_On                     11/05/2015 08:12:14 AM   \n",
       "Breakdown_or_Running_Late                     Running Late   \n",
       "School_Age_or_PreK                              School-Age   \n",
       "\n",
       "                                                         1  \\\n",
       "School_Year                                      2015-2016   \n",
       "Busbreakdown_ID                                    1227539   \n",
       "Run_Type                                 Special Ed AM Run   \n",
       "Bus_No                                                1260   \n",
       "Route_Number                                          M351   \n",
       "Reason                                       Heavy Traffic   \n",
       "Schools_Serviced                                     06716   \n",
       "Occurred_On                         11/05/2015 08:10:00 AM   \n",
       "Created_On                          11/05/2015 08:12:00 AM   \n",
       "Boro                                             Manhattan   \n",
       "Bus_Company_Name                 HOYT TRANSPORTATION CORP.   \n",
       "How_Long_Delayed                                     20MNS   \n",
       "Number_Of_Students_On_The_Bus                            2   \n",
       "Has_Contractor_Notified_Schools                        Yes   \n",
       "Has_Contractor_Notified_Parents                        Yes   \n",
       "Have_You_Alerted_OPT                                    No   \n",
       "Informed_On                         11/05/2015 08:12:00 AM   \n",
       "Incident_Number                                        NaN   \n",
       "Last_Updated_On                     11/05/2015 08:13:34 AM   \n",
       "Breakdown_or_Running_Late                     Running Late   \n",
       "School_Age_or_PreK                              School-Age   \n",
       "\n",
       "                                                      2  \\\n",
       "School_Year                                   2015-2016   \n",
       "Busbreakdown_ID                                 1227540   \n",
       "Run_Type                                       Pre-K/EI   \n",
       "Bus_No                                              418   \n",
       "Route_Number                                          3   \n",
       "Reason                                    Heavy Traffic   \n",
       "Schools_Serviced                                   C445   \n",
       "Occurred_On                      11/05/2015 08:09:00 AM   \n",
       "Created_On                       11/05/2015 08:13:00 AM   \n",
       "Boro                                              Bronx   \n",
       "Bus_Company_Name                           G.V.C., LTD.   \n",
       "How_Long_Delayed                                  15MIN   \n",
       "Number_Of_Students_On_The_Bus                         8   \n",
       "Has_Contractor_Notified_Schools                     Yes   \n",
       "Has_Contractor_Notified_Parents                     Yes   \n",
       "Have_You_Alerted_OPT                                Yes   \n",
       "Informed_On                      11/05/2015 08:13:00 AM   \n",
       "Incident_Number                                     NaN   \n",
       "Last_Updated_On                  11/05/2015 08:13:22 AM   \n",
       "Breakdown_or_Running_Late                  Running Late   \n",
       "School_Age_or_PreK                                Pre-K   \n",
       "\n",
       "                                                         3  \\\n",
       "School_Year                                      2015-2016   \n",
       "Busbreakdown_ID                                    1227541   \n",
       "Run_Type                                 Special Ed AM Run   \n",
       "Bus_No                                                4522   \n",
       "Route_Number                                          M271   \n",
       "Reason                                       Heavy Traffic   \n",
       "Schools_Serviced                                     02699   \n",
       "Occurred_On                         11/05/2015 08:12:00 AM   \n",
       "Created_On                          11/05/2015 08:14:00 AM   \n",
       "Boro                                             Manhattan   \n",
       "Bus_Company_Name                 RELIANT TRANS, INC. (B232   \n",
       "How_Long_Delayed                                    15 MIN   \n",
       "Number_Of_Students_On_The_Bus                            6   \n",
       "Has_Contractor_Notified_Schools                         No   \n",
       "Has_Contractor_Notified_Parents                         No   \n",
       "Have_You_Alerted_OPT                                    No   \n",
       "Informed_On                         11/05/2015 08:14:00 AM   \n",
       "Incident_Number                                        NaN   \n",
       "Last_Updated_On                     11/05/2015 08:14:04 AM   \n",
       "Breakdown_or_Running_Late                     Running Late   \n",
       "School_Age_or_PreK                              School-Age   \n",
       "\n",
       "                                                         4  \n",
       "School_Year                                      2015-2016  \n",
       "Busbreakdown_ID                                    1227542  \n",
       "Run_Type                                 Special Ed AM Run  \n",
       "Bus_No                                                3124  \n",
       "Route_Number                                          M373  \n",
       "Reason                                       Heavy Traffic  \n",
       "Schools_Serviced                                     02116  \n",
       "Occurred_On                         11/05/2015 08:13:00 AM  \n",
       "Created_On                          11/05/2015 08:14:00 AM  \n",
       "Boro                                             Manhattan  \n",
       "Bus_Company_Name                 RELIANT TRANS, INC. (B232  \n",
       "How_Long_Delayed                                       NaN  \n",
       "Number_Of_Students_On_The_Bus                            6  \n",
       "Has_Contractor_Notified_Schools                         No  \n",
       "Has_Contractor_Notified_Parents                         No  \n",
       "Have_You_Alerted_OPT                                    No  \n",
       "Informed_On                         11/05/2015 08:14:00 AM  \n",
       "Incident_Number                                        NaN  \n",
       "Last_Updated_On                     11/05/2015 08:14:08 AM  \n",
       "Breakdown_or_Running_Late                     Running Late  \n",
       "School_Age_or_PreK                              School-Age  "
      ]
     },
     "execution_count": 24,
     "metadata": {},
     "output_type": "execute_result"
    }
   ],
   "source": [
    "data = pd.read_csv(\"Data/temp/Bus_Breakdown_and_Delays.csv\")\n",
    "data.head().T"
   ]
  },
  {
   "cell_type": "code",
   "execution_count": 13,
   "metadata": {},
   "outputs": [
    {
     "data": {
      "text/plain": [
       "(458335, 21)"
      ]
     },
     "execution_count": 13,
     "metadata": {},
     "output_type": "execute_result"
    }
   ],
   "source": [
    "data.shape"
   ]
  },
  {
   "cell_type": "code",
   "execution_count": 14,
   "metadata": {
    "scrolled": true
   },
   "outputs": [
    {
     "data": {
      "text/plain": [
       "School_Year                        object\n",
       "Busbreakdown_ID                     int64\n",
       "Run_Type                           object\n",
       "Bus_No                             object\n",
       "Route_Number                       object\n",
       "Reason                             object\n",
       "Schools_Serviced                   object\n",
       "Occurred_On                        object\n",
       "Created_On                         object\n",
       "Boro                               object\n",
       "Bus_Company_Name                   object\n",
       "How_Long_Delayed                   object\n",
       "Number_Of_Students_On_The_Bus       int64\n",
       "Has_Contractor_Notified_Schools    object\n",
       "Has_Contractor_Notified_Parents    object\n",
       "Have_You_Alerted_OPT               object\n",
       "Informed_On                        object\n",
       "Incident_Number                    object\n",
       "Last_Updated_On                    object\n",
       "Breakdown_or_Running_Late          object\n",
       "School_Age_or_PreK                 object\n",
       "dtype: object"
      ]
     },
     "execution_count": 14,
     "metadata": {},
     "output_type": "execute_result"
    }
   ],
   "source": [
    "data.dtypes"
   ]
  },
  {
   "cell_type": "code",
   "execution_count": 17,
   "metadata": {},
   "outputs": [],
   "source": [
    "# Try to correct the dtype of \"Occurred_On\"\n",
    "data['Occurred_On'] = pd.to_datetime(data['Occurred_On'])"
   ]
  },
  {
   "cell_type": "code",
   "execution_count": 20,
   "metadata": {},
   "outputs": [],
   "source": [
    "data['Created_On'] = pd.to_datetime(data['Created_On'])"
   ]
  },
  {
   "cell_type": "code",
   "execution_count": 23,
   "metadata": {},
   "outputs": [
    {
     "data": {
      "text/plain": [
       "<bound method Series.unique of 0           2621\n",
       "1           1260\n",
       "2            418\n",
       "3           4522\n",
       "4           3124\n",
       "           ...  \n",
       "458330      1881\n",
       "458331     21610\n",
       "458332    GT1488\n",
       "458333       682\n",
       "458334       410\n",
       "Name: Bus_No, Length: 458335, dtype: object>"
      ]
     },
     "execution_count": 23,
     "metadata": {},
     "output_type": "execute_result"
    }
   ],
   "source": [
    "data['Bus_No'].unique"
   ]
  },
  {
   "cell_type": "code",
   "execution_count": 21,
   "metadata": {
    "scrolled": true
   },
   "outputs": [
    {
     "data": {
      "text/plain": [
       "School_Year                                object\n",
       "Busbreakdown_ID                             int64\n",
       "Run_Type                                   object\n",
       "Bus_No                                     object\n",
       "Route_Number                               object\n",
       "Reason                                     object\n",
       "Schools_Serviced                           object\n",
       "Occurred_On                        datetime64[ns]\n",
       "Created_On                         datetime64[ns]\n",
       "Boro                                       object\n",
       "Bus_Company_Name                           object\n",
       "How_Long_Delayed                           object\n",
       "Number_Of_Students_On_The_Bus               int64\n",
       "Has_Contractor_Notified_Schools            object\n",
       "Has_Contractor_Notified_Parents            object\n",
       "Have_You_Alerted_OPT                       object\n",
       "Informed_On                                object\n",
       "Incident_Number                            object\n",
       "Last_Updated_On                            object\n",
       "Breakdown_or_Running_Late                  object\n",
       "School_Age_or_PreK                         object\n",
       "dtype: object"
      ]
     },
     "execution_count": 21,
     "metadata": {},
     "output_type": "execute_result"
    }
   ],
   "source": [
    "data.dtypes"
   ]
  },
  {
   "cell_type": "code",
   "execution_count": 25,
   "metadata": {
    "scrolled": true
   },
   "outputs": [
    {
     "data": {
      "text/plain": [
       "School_Year                             0\n",
       "Busbreakdown_ID                         0\n",
       "Run_Type                                3\n",
       "Bus_No                                 12\n",
       "Route_Number                            7\n",
       "Reason                                  2\n",
       "Schools_Serviced                        7\n",
       "Occurred_On                             0\n",
       "Created_On                              0\n",
       "Boro                                11190\n",
       "Bus_Company_Name                        0\n",
       "How_Long_Delayed                    49719\n",
       "Number_Of_Students_On_The_Bus           0\n",
       "Has_Contractor_Notified_Schools         0\n",
       "Has_Contractor_Notified_Parents         0\n",
       "Have_You_Alerted_OPT                    0\n",
       "Informed_On                             0\n",
       "Incident_Number                    447558\n",
       "Last_Updated_On                         0\n",
       "Breakdown_or_Running_Late               0\n",
       "School_Age_or_PreK                      0\n",
       "dtype: int64"
      ]
     },
     "execution_count": 25,
     "metadata": {},
     "output_type": "execute_result"
    }
   ],
   "source": [
    "data.isnull().sum()"
   ]
  },
  {
   "cell_type": "code",
   "execution_count": 26,
   "metadata": {
    "scrolled": true
   },
   "outputs": [
    {
     "data": {
      "text/plain": [
       "'12/31/2020 08:00:00 AM'"
      ]
     },
     "execution_count": 26,
     "metadata": {},
     "output_type": "execute_result"
    }
   ],
   "source": [
    "data['Occurred_On'].max()"
   ]
  },
  {
   "cell_type": "code",
   "execution_count": 27,
   "metadata": {},
   "outputs": [
    {
     "data": {
      "text/plain": [
       "'01/02/2018 01:04:00 PM'"
      ]
     },
     "execution_count": 27,
     "metadata": {},
     "output_type": "execute_result"
    }
   ],
   "source": [
    "data['Occurred_On'].min()"
   ]
  }
 ],
 "metadata": {
  "kernelspec": {
   "display_name": "Python 3",
   "language": "python",
   "name": "python3"
  },
  "language_info": {
   "codemirror_mode": {
    "name": "ipython",
    "version": 3
   },
   "file_extension": ".py",
   "mimetype": "text/x-python",
   "name": "python",
   "nbconvert_exporter": "python",
   "pygments_lexer": "ipython3",
   "version": "3.8.3"
  }
 },
 "nbformat": 4,
 "nbformat_minor": 4
}
